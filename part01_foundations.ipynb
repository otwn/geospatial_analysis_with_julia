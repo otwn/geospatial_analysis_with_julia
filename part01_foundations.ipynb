{
 "cells": [
  {
   "cell_type": "code",
   "execution_count": 2,
   "metadata": {},
   "outputs": [],
   "source": [
    "using GeoStats"
   ]
  },
  {
   "cell_type": "code",
   "execution_count": 3,
   "metadata": {},
   "outputs": [
    {
     "data": {
      "text/plain": [
       "4-element Vector{Geometry{𝔼{2}, Cartesian2D{NoDatum, Quantity{Float64, 𝐋, Unitful.FreeUnits{(m,), 𝐋, nothing}}}}}:\n",
       " Point(x: 1.0 m, y: 2.0 m)\n",
       " Segment((x: 0.0 m, y: 2.0 m), (x: 1.0 m, y: 3.0 m))\n",
       " Triangle((x: 0.0 m, y: 0.0 m), (x: 1.0 m, y: 0.0 m), (x: 1.0 m, y: 1.0 m))\n",
       " Ball(center: (x: 2.0 m, y: 2.0 m), radius: 1.0 m)"
      ]
     },
     "metadata": {},
     "output_type": "display_data"
    }
   ],
   "source": [
    "p = Point(1, 2)\n",
    "s = Segment((0, 2), (1, 3))\n",
    "t = Triangle((0, 0), (1, 0), (1, 1))\n",
    "b = Ball((2, 2), 1)\n",
    "\n",
    "geoms = [p, s, t, b]"
   ]
  },
  {
   "cell_type": "code",
   "execution_count": 4,
   "metadata": {},
   "outputs": [
    {
     "data": {
      "text/plain": [
       "4 GeometrySet\n",
       "├─ Point(x: 1.0 m, y: 2.0 m)\n",
       "├─ Segment((x: 0.0 m, y: 2.0 m), (x: 1.0 m, y: 3.0 m))\n",
       "├─ Triangle((x: 0.0 m, y: 0.0 m), (x: 1.0 m, y: 0.0 m), (x: 1.0 m, y: 1.0 m))\n",
       "└─ Ball(center: (x: 2.0 m, y: 2.0 m), radius: 1.0 m)"
      ]
     },
     "metadata": {},
     "output_type": "display_data"
    }
   ],
   "source": [
    "gset = GeometrySet(geoms)"
   ]
  },
  {
   "cell_type": "code",
   "execution_count": 5,
   "metadata": {},
   "outputs": [
    {
     "data": {
      "text/plain": [
       "(1.4142135623730951 m, 0.5 m^2, 3.141592653589793 m^2)"
      ]
     },
     "metadata": {},
     "output_type": "display_data"
    }
   ],
   "source": [
    "length(s), area(t), area(b)"
   ]
  },
  {
   "cell_type": "code",
   "execution_count": 6,
   "metadata": {},
   "outputs": [
    {
     "data": {
      "text/plain": [
       "4-element Vector{Quantity{Float64}}:\n",
       " 0.0 m\n",
       " 1.4142135623730951 m\n",
       " 0.5 m^2\n",
       " 3.141592653589793 m^2"
      ]
     },
     "metadata": {},
     "output_type": "display_data"
    }
   ],
   "source": [
    "[measure(g) for g in gset]"
   ]
  },
  {
   "cell_type": "code",
   "execution_count": 7,
   "metadata": {},
   "outputs": [
    {
     "data": {
      "text/plain": [
       "4-element Vector{Quantity{Float64}}:\n",
       " 0.0 m\n",
       " 1.4142135623730951 m\n",
       " 0.5 m^2\n",
       " 3.141592653589793 m^2"
      ]
     },
     "metadata": {},
     "output_type": "display_data"
    }
   ],
   "source": [
    "measure.(gset)"
   ]
  },
  {
   "cell_type": "code",
   "execution_count": 8,
   "metadata": {},
   "outputs": [
    {
     "data": {
      "text/plain": [
       "10×10 CartesianGrid\n",
       "├─ minimum: Point(x: 0.0 m, y: 0.0 m)\n",
       "├─ maximum: Point(x: 10.0 m, y: 10.0 m)\n",
       "└─ spacing: (1.0 m, 1.0 m)"
      ]
     },
     "metadata": {},
     "output_type": "display_data"
    }
   ],
   "source": [
    "grid = CartesianGrid(10, 10)\n"
   ]
  },
  {
   "cell_type": "code",
   "execution_count": 9,
   "metadata": {},
   "outputs": [
    {
     "data": {
      "text/plain": [
       "Quadrangle\n",
       "├─ Point(x: 0.0 m, y: 0.0 m)\n",
       "├─ Point(x: 1.0 m, y: 0.0 m)\n",
       "├─ Point(x: 1.0 m, y: 1.0 m)\n",
       "└─ Point(x: 0.0 m, y: 1.0 m)"
      ]
     },
     "metadata": {},
     "output_type": "display_data"
    }
   ],
   "source": [
    "grid[1]"
   ]
  },
  {
   "cell_type": "code",
   "execution_count": 10,
   "metadata": {},
   "outputs": [
    {
     "data": {
      "text/plain": [
       "10×10 GridTopology(aperiodic, aperiodic)"
      ]
     },
     "metadata": {},
     "output_type": "display_data"
    }
   ],
   "source": [
    "topo = topology(grid)"
   ]
  },
  {
   "cell_type": "code",
   "execution_count": 11,
   "metadata": {},
   "outputs": [
    {
     "data": {
      "text/plain": [
       "10000×10000×10000 CartesianGrid\n",
       "├─ minimum: Point(x: 0.0 m, y: 0.0 m, z: 0.0 m)\n",
       "├─ maximum: Point(x: 10000.0 m, y: 10000.0 m, z: 10000.0 m)\n",
       "└─ spacing: (1.0 m, 1.0 m, 1.0 m)"
      ]
     },
     "metadata": {},
     "output_type": "display_data"
    }
   ],
   "source": [
    "grid = CartesianGrid(10000, 10000, 10000)"
   ]
  },
  {
   "cell_type": "code",
   "execution_count": 12,
   "metadata": {},
   "outputs": [
    {
     "data": {
      "text/plain": [
       "Hexahedron\n",
       "├─ Point(x: 0.0 m, y: 0.0 m, z: 0.0 m)\n",
       "├─ Point(x: 1.0 m, y: 0.0 m, z: 0.0 m)\n",
       "├─ Point(x: 1.0 m, y: 1.0 m, z: 0.0 m)\n",
       "├─ Point(x: 0.0 m, y: 1.0 m, z: 0.0 m)\n",
       "├─ Point(x: 0.0 m, y: 0.0 m, z: 1.0 m)\n",
       "├─ Point(x: 1.0 m, y: 0.0 m, z: 1.0 m)\n",
       "├─ Point(x: 1.0 m, y: 1.0 m, z: 1.0 m)\n",
       "└─ Point(x: 0.0 m, y: 1.0 m, z: 1.0 m)"
      ]
     },
     "metadata": {},
     "output_type": "display_data"
    }
   ],
   "source": [
    "grid[1]"
   ]
  },
  {
   "cell_type": "code",
   "execution_count": 13,
   "metadata": {},
   "outputs": [
    {
     "data": {
      "text/plain": [
       "4 SimpleMesh\n",
       "  6 vertices\n",
       "  ├─ Point(x: 0.0 m, y: 0.0 m)\n",
       "  ├─ Point(x: 1.0 m, y: 0.0 m)\n",
       "  ├─ Point(x: 0.0 m, y: 1.0 m)\n",
       "  ├─ Point(x: 1.0 m, y: 1.0 m)\n",
       "  ├─ Point(x: 0.25 m, y: 0.5 m)\n",
       "  └─ Point(x: 0.75 m, y: 0.5 m)\n",
       "  4 elements\n",
       "  ├─ Quadrangle(1, 2, 6, 5)\n",
       "  ├─ Triangle(2, 4, 6)\n",
       "  ├─ Quadrangle(4, 3, 5, 6)\n",
       "  └─ Triangle(3, 1, 5)"
      ]
     },
     "metadata": {},
     "output_type": "display_data"
    }
   ],
   "source": [
    "# global vector of 2D points\n",
    "points = [(0.0, 0.0), (1.0, 0.0), (0.0, 1.0), (1.0, 1.0), (0.25, 0.5), (0.75, 0.5)]\n",
    "\n",
    "# connect the points into N-gons\n",
    "connec = connect.([(1, 2, 6, 5), (2, 4, 6), (4, 3, 5, 6), (3, 1, 5)])\n",
    "\n",
    "# 2D mesh made of N-gon elements\n",
    "mesh = SimpleMesh(points, connec)"
   ]
  },
  {
   "cell_type": "markdown",
   "metadata": {},
   "source": []
  },
  {
   "cell_type": "code",
   "execution_count": 14,
   "metadata": {},
   "outputs": [
    {
     "data": {
      "text/plain": [
       "Triangle\n",
       "├─ Point(x: 0.0 m, y: 0.0 m)\n",
       "├─ Point(x: 1.0 m, y: 0.0 m)\n",
       "└─ Point(x: 1.0 m, y: 1.0 m)"
      ]
     },
     "metadata": {},
     "output_type": "display_data"
    }
   ],
   "source": [
    "c = connect((1, 2, 3))\n",
    "materialize(c, [Point(0, 0), Point(1, 0), Point(1, 1)])"
   ]
  },
  {
   "cell_type": "code",
   "execution_count": 15,
   "metadata": {},
   "outputs": [
    {
     "data": {
      "text/plain": [
       "Quadrangle\n",
       "├─ Point(x: 0.0 m, y: 0.0 m)\n",
       "├─ Point(x: 1.0 m, y: 0.0 m)\n",
       "├─ Point(x: 0.75 m, y: 0.5 m)\n",
       "└─ Point(x: 0.25 m, y: 0.5 m)"
      ]
     },
     "metadata": {},
     "output_type": "display_data"
    }
   ],
   "source": [
    "mesh[1]"
   ]
  },
  {
   "cell_type": "markdown",
   "metadata": {},
   "source": [
    "## 1.2.3 Data"
   ]
  },
  {
   "cell_type": "code",
   "execution_count": 16,
   "metadata": {},
   "outputs": [],
   "source": [
    "using GeoStats\n",
    "using DataFrames"
   ]
  },
  {
   "cell_type": "code",
   "execution_count": 17,
   "metadata": {},
   "outputs": [
    {
     "data": {
      "text/html": [
       "<table>\n",
       "  <caption style = \"text-align: left;\">4×5 GeoTable over 2×2 CartesianGrid</caption>\n",
       "  <thead>\n",
       "    <tr class = \"header\">\n",
       "      <th style = \"text-align: center;\">NAME</th>\n",
       "      <th style = \"text-align: center;\">AGE</th>\n",
       "      <th style = \"text-align: center;\">HEIGHT</th>\n",
       "      <th style = \"text-align: center;\">GENDER</th>\n",
       "      <th style = \"text-align: center;\">geometry</th>\n",
       "    </tr>\n",
       "    <tr class = \"subheader\">\n",
       "      <th style = \"text-align: center;\">Categorical</th>\n",
       "      <th style = \"text-align: center;\">Continuous</th>\n",
       "      <th style = \"text-align: center;\">Continuous</th>\n",
       "      <th style = \"text-align: center;\">Categorical</th>\n",
       "      <th style = \"text-align: center;\">Quadrangle</th>\n",
       "    </tr>\n",
       "    <tr class = \"subheader headerLastRow\">\n",
       "      <th style = \"text-align: center;\">[NoUnits]</th>\n",
       "      <th style = \"text-align: center;\">[yr]</th>\n",
       "      <th style = \"text-align: center;\">[m]</th>\n",
       "      <th style = \"text-align: center;\">[NoUnits]</th>\n",
       "      <th style = \"text-align: center;\">🖈 Cartesian{NoDatum}</th>\n",
       "    </tr>\n",
       "  </thead>\n",
       "  <tbody>\n",
       "    <tr>\n",
       "      <td style = \"text-align: center;\">John</td>\n",
       "      <td style = \"text-align: center;\">34.0 yr</td>\n",
       "      <td style = \"text-align: center;\">1.78 m</td>\n",
       "      <td style = \"text-align: center;\">male</td>\n",
       "      <td style = \"text-align: center;\">Quadrangle((x: 0.0 m, y: 0.0 m), ..., (x: 0.0 m, y: 1.0 m))</td>\n",
       "    </tr>\n",
       "    <tr>\n",
       "      <td style = \"text-align: center;\">Mary</td>\n",
       "      <td style = \"text-align: center;\">12.0 yr</td>\n",
       "      <td style = \"text-align: center;\">1.56 m</td>\n",
       "      <td style = \"text-align: center;\">female</td>\n",
       "      <td style = \"text-align: center;\">Quadrangle((x: 1.0 m, y: 0.0 m), ..., (x: 1.0 m, y: 1.0 m))</td>\n",
       "    </tr>\n",
       "    <tr>\n",
       "      <td style = \"text-align: center;\">Paul</td>\n",
       "      <td style = \"text-align: center;\">23.0 yr</td>\n",
       "      <td style = \"text-align: center;\">1.7 m</td>\n",
       "      <td style = \"text-align: center;\">male</td>\n",
       "      <td style = \"text-align: center;\">Quadrangle((x: 0.0 m, y: 1.0 m), ..., (x: 0.0 m, y: 2.0 m))</td>\n",
       "    </tr>\n",
       "    <tr>\n",
       "      <td style = \"text-align: center;\">Anne</td>\n",
       "      <td style = \"text-align: center;\">39.0 yr</td>\n",
       "      <td style = \"text-align: center;\">1.8 m</td>\n",
       "      <td style = \"text-align: center;\">female</td>\n",
       "      <td style = \"text-align: center;\">Quadrangle((x: 1.0 m, y: 1.0 m), ..., (x: 1.0 m, y: 2.0 m))</td>\n",
       "    </tr>\n",
       "  </tbody>\n",
       "</table>\n"
      ],
      "text/plain": [
       "\u001b[1m4×5 GeoTable over 2×2 CartesianGrid\u001b[0m\n",
       "┌─────────────┬────────────┬────────────┬─────────────┬─────────────────────────\n",
       "│\u001b[35;1m    NAME     \u001b[0m│\u001b[35;1m    AGE     \u001b[0m│\u001b[35;1m   HEIGHT   \u001b[0m│\u001b[35;1m   GENDER    \u001b[0m│\u001b[38;2;0;128;128;1m                       \u001b[0m ⋯\n",
       "│\u001b[90m Categorical \u001b[0m│\u001b[90m Continuous \u001b[0m│\u001b[90m Continuous \u001b[0m│\u001b[90m Categorical \u001b[0m│\u001b[90m                       \u001b[0m ⋯\n",
       "│\u001b[90m  [NoUnits]  \u001b[0m│\u001b[90m    [yr]    \u001b[0m│\u001b[90m    [m]     \u001b[0m│\u001b[90m  [NoUnits]  \u001b[0m│\u001b[90m                    🖈 C\u001b[0m ⋯\n",
       "├─────────────┼────────────┼────────────┼─────────────┼─────────────────────────\n",
       "│    John     │  34.0 yr   │   1.78 m   │    male     │ Quadrangle((x: 0.0 m,  ⋯\n",
       "│    Mary     │  12.0 yr   │   1.56 m   │   female    │ Quadrangle((x: 1.0 m,  ⋯\n",
       "│    Paul     │  23.0 yr   │   1.7 m    │    male     │ Quadrangle((x: 0.0 m,  ⋯\n",
       "│    Anne     │  39.0 yr   │   1.8 m    │   female    │ Quadrangle((x: 1.0 m,  ⋯\n",
       "└─────────────┴────────────┴────────────┴─────────────┴─────────────────────────\n",
       "\u001b[36m                                                                1 column omitted\u001b[0m"
      ]
     },
     "metadata": {},
     "output_type": "display_data"
    }
   ],
   "source": [
    "df = DataFrame(\n",
    "    NAME=[\"John\", \"Mary\", \"Paul\", \"Anne\"],\n",
    "    AGE=[34.0, 12.0, 23.0, 39.0]u\"yr\",\n",
    "    HEIGHT=[1.78, 1.56, 1.70, 1.80]u\"m\",\n",
    "    GENDER=[\"male\", \"female\", \"male\", \"female\"]\n",
    ")\n",
    "\n",
    "grid = CartesianGrid(2, 2)\n",
    "\n",
    "geotable = georef(df, grid)"
   ]
  },
  {
   "cell_type": "code",
   "execution_count": 18,
   "metadata": {},
   "outputs": [
    {
     "data": {
      "text/plain": [
       "3-element Vector{Quantity{Float64, 𝐋, Unitful.FreeUnits{(m,), 𝐋, nothing}}}:\n",
       " 1.0 m\n",
       " 2.0 m\n",
       " 3.0 m"
      ]
     },
     "metadata": {},
     "output_type": "display_data"
    }
   ],
   "source": [
    "[1.0, 2.0, 3.0]u\"m\""
   ]
  },
  {
   "cell_type": "code",
   "execution_count": 19,
   "metadata": {},
   "outputs": [],
   "source": [
    "using Unitful: m, ft"
   ]
  },
  {
   "cell_type": "code",
   "execution_count": 20,
   "metadata": {},
   "outputs": [
    {
     "data": {
      "text/plain": [
       "5-element Vector{String}:\n",
       " \"NAME\"\n",
       " \"AGE\"\n",
       " \"HEIGHT\"\n",
       " \"GENDER\"\n",
       " \"geometry\""
      ]
     },
     "metadata": {},
     "output_type": "display_data"
    }
   ],
   "source": [
    "names(geotable)"
   ]
  },
  {
   "cell_type": "code",
   "execution_count": 21,
   "metadata": {},
   "outputs": [
    {
     "data": {
      "text/plain": [
       "(NAME = \"John\", AGE = 34.0 yr, HEIGHT = 1.78 m, GENDER = \"male\", geometry = Quadrangle((x: 0.0 m, y: 0.0 m), ..., (x: 0.0 m, y: 1.0 m)))"
      ]
     },
     "metadata": {},
     "output_type": "display_data"
    }
   ],
   "source": [
    "geotable[1, :]"
   ]
  },
  {
   "cell_type": "code",
   "execution_count": 22,
   "metadata": {},
   "outputs": [
    {
     "data": {
      "text/html": [
       "<table>\n",
       "  <caption style = \"text-align: left;\">3×3 GeoTable over 3 view(::CartesianGrid, 1:3)</caption>\n",
       "  <thead>\n",
       "    <tr class = \"header\">\n",
       "      <th style = \"text-align: center;\">NAME</th>\n",
       "      <th style = \"text-align: center;\">AGE</th>\n",
       "      <th style = \"text-align: center;\">geometry</th>\n",
       "    </tr>\n",
       "    <tr class = \"subheader\">\n",
       "      <th style = \"text-align: center;\">Categorical</th>\n",
       "      <th style = \"text-align: center;\">Continuous</th>\n",
       "      <th style = \"text-align: center;\">Quadrangle</th>\n",
       "    </tr>\n",
       "    <tr class = \"subheader headerLastRow\">\n",
       "      <th style = \"text-align: center;\">[NoUnits]</th>\n",
       "      <th style = \"text-align: center;\">[yr]</th>\n",
       "      <th style = \"text-align: center;\">🖈 Cartesian{NoDatum}</th>\n",
       "    </tr>\n",
       "  </thead>\n",
       "  <tbody>\n",
       "    <tr>\n",
       "      <td style = \"text-align: center;\">John</td>\n",
       "      <td style = \"text-align: center;\">34.0 yr</td>\n",
       "      <td style = \"text-align: center;\">Quadrangle((x: 0.0 m, y: 0.0 m), ..., (x: 0.0 m, y: 1.0 m))</td>\n",
       "    </tr>\n",
       "    <tr>\n",
       "      <td style = \"text-align: center;\">Mary</td>\n",
       "      <td style = \"text-align: center;\">12.0 yr</td>\n",
       "      <td style = \"text-align: center;\">Quadrangle((x: 1.0 m, y: 0.0 m), ..., (x: 1.0 m, y: 1.0 m))</td>\n",
       "    </tr>\n",
       "    <tr>\n",
       "      <td style = \"text-align: center;\">Paul</td>\n",
       "      <td style = \"text-align: center;\">23.0 yr</td>\n",
       "      <td style = \"text-align: center;\">Quadrangle((x: 0.0 m, y: 1.0 m), ..., (x: 0.0 m, y: 2.0 m))</td>\n",
       "    </tr>\n",
       "  </tbody>\n",
       "</table>\n"
      ],
      "text/plain": [
       "\u001b[1m3×3 GeoTable over 3 view(::CartesianGrid, 1:3)\u001b[0m\n",
       "┌─────────────┬────────────┬────────────────────────────────────────────────────\n",
       "│\u001b[35;1m    NAME     \u001b[0m│\u001b[35;1m    AGE     \u001b[0m│\u001b[38;2;0;128;128;1m                          geometry                \u001b[0m ⋯\n",
       "│\u001b[90m Categorical \u001b[0m│\u001b[90m Continuous \u001b[0m│\u001b[90m                         Quadrangle               \u001b[0m ⋯\n",
       "│\u001b[90m  [NoUnits]  \u001b[0m│\u001b[90m    [yr]    \u001b[0m│\u001b[90m                    🖈 Cartesian{NoDatum}          \u001b[0m ⋯\n",
       "├─────────────┼────────────┼────────────────────────────────────────────────────\n",
       "│    John     │  34.0 yr   │ Quadrangle((x: 0.0 m, y: 0.0 m), ..., (x: 0.0 m,  ⋯\n",
       "│    Mary     │  12.0 yr   │ Quadrangle((x: 1.0 m, y: 0.0 m), ..., (x: 1.0 m,  ⋯\n",
       "│    Paul     │  23.0 yr   │ Quadrangle((x: 0.0 m, y: 1.0 m), ..., (x: 0.0 m,  ⋯\n",
       "└─────────────┴────────────┴────────────────────────────────────────────────────\n",
       "\u001b[36m                                                                1 column omitted\u001b[0m"
      ]
     },
     "metadata": {},
     "output_type": "display_data"
    }
   ],
   "source": [
    "geotable[1:3, [\"NAME\", \"AGE\"]]"
   ]
  },
  {
   "cell_type": "code",
   "execution_count": 23,
   "metadata": {},
   "outputs": [
    {
     "data": {
      "text/plain": [
       "2×2 CartesianGrid\n",
       "├─ minimum: Point(x: 0.0 m, y: 0.0 m)\n",
       "├─ maximum: Point(x: 2.0 m, y: 2.0 m)\n",
       "└─ spacing: (1.0 m, 1.0 m)"
      ]
     },
     "metadata": {},
     "output_type": "display_data"
    }
   ],
   "source": [
    "geotable[:, \"geometry\"]"
   ]
  },
  {
   "cell_type": "code",
   "execution_count": 24,
   "metadata": {},
   "outputs": [
    {
     "data": {
      "text/html": [
       "<table>\n",
       "  <caption style = \"text-align: left;\">2×5 GeoTable over 2 view(::CartesianGrid, [1, 2])</caption>\n",
       "  <thead>\n",
       "    <tr class = \"header\">\n",
       "      <th style = \"text-align: center;\">NAME</th>\n",
       "      <th style = \"text-align: center;\">AGE</th>\n",
       "      <th style = \"text-align: center;\">HEIGHT</th>\n",
       "      <th style = \"text-align: center;\">GENDER</th>\n",
       "      <th style = \"text-align: center;\">geometry</th>\n",
       "    </tr>\n",
       "    <tr class = \"subheader\">\n",
       "      <th style = \"text-align: center;\">Categorical</th>\n",
       "      <th style = \"text-align: center;\">Continuous</th>\n",
       "      <th style = \"text-align: center;\">Continuous</th>\n",
       "      <th style = \"text-align: center;\">Categorical</th>\n",
       "      <th style = \"text-align: center;\">Quadrangle</th>\n",
       "    </tr>\n",
       "    <tr class = \"subheader headerLastRow\">\n",
       "      <th style = \"text-align: center;\">[NoUnits]</th>\n",
       "      <th style = \"text-align: center;\">[yr]</th>\n",
       "      <th style = \"text-align: center;\">[m]</th>\n",
       "      <th style = \"text-align: center;\">[NoUnits]</th>\n",
       "      <th style = \"text-align: center;\">🖈 Cartesian{NoDatum}</th>\n",
       "    </tr>\n",
       "  </thead>\n",
       "  <tbody>\n",
       "    <tr>\n",
       "      <td style = \"text-align: center;\">John</td>\n",
       "      <td style = \"text-align: center;\">34.0 yr</td>\n",
       "      <td style = \"text-align: center;\">1.78 m</td>\n",
       "      <td style = \"text-align: center;\">male</td>\n",
       "      <td style = \"text-align: center;\">Quadrangle((x: 0.0 m, y: 0.0 m), ..., (x: 0.0 m, y: 1.0 m))</td>\n",
       "    </tr>\n",
       "    <tr>\n",
       "      <td style = \"text-align: center;\">Mary</td>\n",
       "      <td style = \"text-align: center;\">12.0 yr</td>\n",
       "      <td style = \"text-align: center;\">1.56 m</td>\n",
       "      <td style = \"text-align: center;\">female</td>\n",
       "      <td style = \"text-align: center;\">Quadrangle((x: 1.0 m, y: 0.0 m), ..., (x: 1.0 m, y: 1.0 m))</td>\n",
       "    </tr>\n",
       "  </tbody>\n",
       "</table>\n"
      ],
      "text/plain": [
       "\u001b[1m2×5 GeoTable over 2 view(::CartesianGrid, [1, 2])\u001b[0m\n",
       "┌─────────────┬────────────┬────────────┬─────────────┬─────────────────────────\n",
       "│\u001b[35;1m    NAME     \u001b[0m│\u001b[35;1m    AGE     \u001b[0m│\u001b[35;1m   HEIGHT   \u001b[0m│\u001b[35;1m   GENDER    \u001b[0m│\u001b[38;2;0;128;128;1m                       \u001b[0m ⋯\n",
       "│\u001b[90m Categorical \u001b[0m│\u001b[90m Continuous \u001b[0m│\u001b[90m Continuous \u001b[0m│\u001b[90m Categorical \u001b[0m│\u001b[90m                       \u001b[0m ⋯\n",
       "│\u001b[90m  [NoUnits]  \u001b[0m│\u001b[90m    [yr]    \u001b[0m│\u001b[90m    [m]     \u001b[0m│\u001b[90m  [NoUnits]  \u001b[0m│\u001b[90m                    🖈 C\u001b[0m ⋯\n",
       "├─────────────┼────────────┼────────────┼─────────────┼─────────────────────────\n",
       "│    John     │  34.0 yr   │   1.78 m   │    male     │ Quadrangle((x: 0.0 m,  ⋯\n",
       "│    Mary     │  12.0 yr   │   1.56 m   │   female    │ Quadrangle((x: 1.0 m,  ⋯\n",
       "└─────────────┴────────────┴────────────┴─────────────┴─────────────────────────\n",
       "\u001b[36m                                                                1 column omitted\u001b[0m"
      ]
     },
     "metadata": {},
     "output_type": "display_data"
    }
   ],
   "source": [
    "geotable[Segment((0,0), (2,0)), :]"
   ]
  },
  {
   "cell_type": "code",
   "execution_count": 25,
   "metadata": {},
   "outputs": [
    {
     "data": {
      "text/html": [
       "<table>\n",
       "  <caption style = \"text-align: left;\">1000000×4 GeoTable over 1000×1000 CartesianGrid</caption>\n",
       "  <thead>\n",
       "    <tr class = \"header\">\n",
       "      <th style = \"text-align: center;\">R</th>\n",
       "      <th style = \"text-align: center;\">G</th>\n",
       "      <th style = \"text-align: center;\">B</th>\n",
       "      <th style = \"text-align: center;\">geometry</th>\n",
       "    </tr>\n",
       "    <tr class = \"subheader\">\n",
       "      <th style = \"text-align: center;\">Continuous</th>\n",
       "      <th style = \"text-align: center;\">Continuous</th>\n",
       "      <th style = \"text-align: center;\">Continuous</th>\n",
       "      <th style = \"text-align: center;\">Quadrangle</th>\n",
       "    </tr>\n",
       "    <tr class = \"subheader headerLastRow\">\n",
       "      <th style = \"text-align: center;\">[NoUnits]</th>\n",
       "      <th style = \"text-align: center;\">[NoUnits]</th>\n",
       "      <th style = \"text-align: center;\">[NoUnits]</th>\n",
       "      <th style = \"text-align: center;\">🖈 Cartesian{NoDatum}</th>\n",
       "    </tr>\n",
       "  </thead>\n",
       "  <tbody>\n",
       "    <tr>\n",
       "      <td style = \"text-align: center;\">0.851036</td>\n",
       "      <td style = \"text-align: center;\">0.313802</td>\n",
       "      <td style = \"text-align: center;\">0.287749</td>\n",
       "      <td style = \"text-align: center;\">Quadrangle((x: 0.0 m, y: 0.0 m), ..., (x: 0.0 m, y: 1.0 m))</td>\n",
       "    </tr>\n",
       "    <tr>\n",
       "      <td style = \"text-align: center;\">0.742171</td>\n",
       "      <td style = \"text-align: center;\">0.357177</td>\n",
       "      <td style = \"text-align: center;\">0.594523</td>\n",
       "      <td style = \"text-align: center;\">Quadrangle((x: 1.0 m, y: 0.0 m), ..., (x: 1.0 m, y: 1.0 m))</td>\n",
       "    </tr>\n",
       "    <tr>\n",
       "      <td style = \"text-align: center;\">0.65973</td>\n",
       "      <td style = \"text-align: center;\">0.0209157</td>\n",
       "      <td style = \"text-align: center;\">0.883838</td>\n",
       "      <td style = \"text-align: center;\">Quadrangle((x: 2.0 m, y: 0.0 m), ..., (x: 2.0 m, y: 1.0 m))</td>\n",
       "    </tr>\n",
       "    <tr>\n",
       "      <td style = \"text-align: center;\">0.486249</td>\n",
       "      <td style = \"text-align: center;\">0.660657</td>\n",
       "      <td style = \"text-align: center;\">0.92987</td>\n",
       "      <td style = \"text-align: center;\">Quadrangle((x: 3.0 m, y: 0.0 m), ..., (x: 3.0 m, y: 1.0 m))</td>\n",
       "    </tr>\n",
       "    <tr>\n",
       "      <td style = \"text-align: center;\">0.473738</td>\n",
       "      <td style = \"text-align: center;\">0.329212</td>\n",
       "      <td style = \"text-align: center;\">0.392822</td>\n",
       "      <td style = \"text-align: center;\">Quadrangle((x: 4.0 m, y: 0.0 m), ..., (x: 4.0 m, y: 1.0 m))</td>\n",
       "    </tr>\n",
       "    <tr>\n",
       "      <td style = \"text-align: center;\">0.167422</td>\n",
       "      <td style = \"text-align: center;\">0.245384</td>\n",
       "      <td style = \"text-align: center;\">0.837393</td>\n",
       "      <td style = \"text-align: center;\">Quadrangle((x: 5.0 m, y: 0.0 m), ..., (x: 5.0 m, y: 1.0 m))</td>\n",
       "    </tr>\n",
       "    <tr>\n",
       "      <td style = \"text-align: center;\">0.953268</td>\n",
       "      <td style = \"text-align: center;\">0.843643</td>\n",
       "      <td style = \"text-align: center;\">0.0972748</td>\n",
       "      <td style = \"text-align: center;\">Quadrangle((x: 6.0 m, y: 0.0 m), ..., (x: 6.0 m, y: 1.0 m))</td>\n",
       "    </tr>\n",
       "    <tr>\n",
       "      <td style = \"text-align: center;\">0.0507733</td>\n",
       "      <td style = \"text-align: center;\">0.42632</td>\n",
       "      <td style = \"text-align: center;\">0.246997</td>\n",
       "      <td style = \"text-align: center;\">Quadrangle((x: 7.0 m, y: 0.0 m), ..., (x: 7.0 m, y: 1.0 m))</td>\n",
       "    </tr>\n",
       "    <tr>\n",
       "      <td style = \"text-align: center;\">0.757926</td>\n",
       "      <td style = \"text-align: center;\">0.880472</td>\n",
       "      <td style = \"text-align: center;\">0.235953</td>\n",
       "      <td style = \"text-align: center;\">Quadrangle((x: 8.0 m, y: 0.0 m), ..., (x: 8.0 m, y: 1.0 m))</td>\n",
       "    </tr>\n",
       "    <tr>\n",
       "      <td style = \"text-align: center;\">0.322747</td>\n",
       "      <td style = \"text-align: center;\">0.309841</td>\n",
       "      <td style = \"text-align: center;\">0.772331</td>\n",
       "      <td style = \"text-align: center;\">Quadrangle((x: 9.0 m, y: 0.0 m), ..., (x: 9.0 m, y: 1.0 m))</td>\n",
       "    </tr>\n",
       "    <tr>\n",
       "      <td style = \"text-align: right;\">&vellip;</td>\n",
       "      <td style = \"text-align: right;\">&vellip;</td>\n",
       "      <td style = \"text-align: right;\">&vellip;</td>\n",
       "      <td style = \"text-align: right;\">&vellip;</td>\n",
       "    </tr>\n",
       "  </tbody>\n",
       "</table>\n"
      ],
      "text/plain": [
       "\u001b[1m1000000×4 GeoTable over 1000×1000 CartesianGrid\u001b[0m\n",
       "┌────────────┬────────────┬────────────┬────────────────────────────────────────\n",
       "│\u001b[35;1m     R      \u001b[0m│\u001b[35;1m     G      \u001b[0m│\u001b[35;1m     B      \u001b[0m│\u001b[38;2;0;128;128;1m                           geometry   \u001b[0m ⋯\n",
       "│\u001b[90m Continuous \u001b[0m│\u001b[90m Continuous \u001b[0m│\u001b[90m Continuous \u001b[0m│\u001b[90m                          Quadrangle  \u001b[0m ⋯\n",
       "│\u001b[90m [NoUnits]  \u001b[0m│\u001b[90m [NoUnits]  \u001b[0m│\u001b[90m [NoUnits]  \u001b[0m│\u001b[90m                     🖈 Cartesian{NoDat\u001b[0m ⋯\n",
       "├────────────┼────────────┼────────────┼────────────────────────────────────────\n",
       "│  0.851036  │  0.313802  │  0.287749  │  Quadrangle((x: 0.0 m, y: 0.0 m), ... ⋯\n",
       "│  0.742171  │  0.357177  │  0.594523  │  Quadrangle((x: 1.0 m, y: 0.0 m), ... ⋯\n",
       "│  0.65973   │ 0.0209157  │  0.883838  │  Quadrangle((x: 2.0 m, y: 0.0 m), ... ⋯\n",
       "│  0.486249  │  0.660657  │  0.92987   │  Quadrangle((x: 3.0 m, y: 0.0 m), ... ⋯\n",
       "│  0.473738  │  0.329212  │  0.392822  │  Quadrangle((x: 4.0 m, y: 0.0 m), ... ⋯\n",
       "│  0.167422  │  0.245384  │  0.837393  │  Quadrangle((x: 5.0 m, y: 0.0 m), ... ⋯\n",
       "│  0.953268  │  0.843643  │ 0.0972748  │  Quadrangle((x: 6.0 m, y: 0.0 m), ... ⋯\n",
       "│ 0.0507733  │  0.42632   │  0.246997  │  Quadrangle((x: 7.0 m, y: 0.0 m), ... ⋯\n",
       "│  0.757926  │  0.880472  │  0.235953  │  Quadrangle((x: 8.0 m, y: 0.0 m), ... ⋯\n",
       "│  0.322747  │  0.309841  │  0.772331  │  Quadrangle((x: 9.0 m, y: 0.0 m), ... ⋯\n",
       "│  0.360385  │  0.617559  │  0.145999  │ Quadrangle((x: 10.0 m, y: 0.0 m), ... ⋯\n",
       "│  0.325272  │  0.599877  │  0.250411  │ Quadrangle((x: 11.0 m, y: 0.0 m), ... ⋯\n",
       "│  0.454065  │  0.713163  │  0.530247  │ Quadrangle((x: 12.0 m, y: 0.0 m), ... ⋯\n",
       "│  0.539412  │  0.177174  │  0.505614  │ Quadrangle((x: 13.0 m, y: 0.0 m), ... ⋯\n",
       "│     ⋮      │     ⋮      │     ⋮      │                               ⋮       ⋱\n",
       "└────────────┴────────────┴────────────┴────────────────────────────────────────\n",
       "\u001b[36m                                                1 column and 999986 rows omitted\u001b[0m"
      ]
     },
     "metadata": {},
     "output_type": "display_data"
    }
   ],
   "source": [
    "georef(\n",
    "    (\n",
    "        R = rand(1000000),\n",
    "        G = rand(1000000),\n",
    "        B = rand(1000000)\n",
    "    ),\n",
    "    CartesianGrid(1000, 1000)\n",
    ")"
   ]
  },
  {
   "cell_type": "code",
   "execution_count": 26,
   "metadata": {},
   "outputs": [],
   "source": [
    "using GeoIO"
   ]
  },
  {
   "cell_type": "code",
   "execution_count": 27,
   "metadata": {},
   "outputs": [
    {
     "data": {
      "text/html": [
       "<table>\n",
       "  <caption style = \"text-align: left;\">177×3 GeoTable over 177 GeometrySet</caption>\n",
       "  <thead>\n",
       "    <tr class = \"header\">\n",
       "      <th style = \"text-align: center;\">COUNTRY</th>\n",
       "      <th style = \"text-align: center;\">REGION</th>\n",
       "      <th style = \"text-align: center;\">geometry</th>\n",
       "    </tr>\n",
       "    <tr class = \"subheader\">\n",
       "      <th style = \"text-align: center;\">Categorical</th>\n",
       "      <th style = \"text-align: center;\">Categorical</th>\n",
       "      <th style = \"text-align: center;\">MultiPolygon</th>\n",
       "    </tr>\n",
       "    <tr class = \"subheader headerLastRow\">\n",
       "      <th style = \"text-align: center;\">[NoUnits]</th>\n",
       "      <th style = \"text-align: center;\">[NoUnits]</th>\n",
       "      <th style = \"text-align: center;\">🖈 GeodeticLatLon{WGS84Latest}</th>\n",
       "    </tr>\n",
       "  </thead>\n",
       "  <tbody>\n",
       "    <tr>\n",
       "      <td style = \"text-align: center;\">Fiji</td>\n",
       "      <td style = \"text-align: center;\">Melanesia</td>\n",
       "      <td style = \"text-align: center;\">Multi(3×PolyArea)</td>\n",
       "    </tr>\n",
       "    <tr>\n",
       "      <td style = \"text-align: center;\">Tanzania</td>\n",
       "      <td style = \"text-align: center;\">Eastern Africa</td>\n",
       "      <td style = \"text-align: center;\">Multi(1×PolyArea)</td>\n",
       "    </tr>\n",
       "    <tr>\n",
       "      <td style = \"text-align: center;\">W. Sahara</td>\n",
       "      <td style = \"text-align: center;\">Northern Africa</td>\n",
       "      <td style = \"text-align: center;\">Multi(1×PolyArea)</td>\n",
       "    </tr>\n",
       "    <tr>\n",
       "      <td style = \"text-align: center;\">Canada</td>\n",
       "      <td style = \"text-align: center;\">Northern America</td>\n",
       "      <td style = \"text-align: center;\">Multi(30×PolyArea)</td>\n",
       "    </tr>\n",
       "    <tr>\n",
       "      <td style = \"text-align: center;\">United States of America</td>\n",
       "      <td style = \"text-align: center;\">Northern America</td>\n",
       "      <td style = \"text-align: center;\">Multi(10×PolyArea)</td>\n",
       "    </tr>\n",
       "    <tr>\n",
       "      <td style = \"text-align: center;\">Kazakhstan</td>\n",
       "      <td style = \"text-align: center;\">Central Asia</td>\n",
       "      <td style = \"text-align: center;\">Multi(1×PolyArea)</td>\n",
       "    </tr>\n",
       "    <tr>\n",
       "      <td style = \"text-align: center;\">Uzbekistan</td>\n",
       "      <td style = \"text-align: center;\">Central Asia</td>\n",
       "      <td style = \"text-align: center;\">Multi(1×PolyArea)</td>\n",
       "    </tr>\n",
       "    <tr>\n",
       "      <td style = \"text-align: center;\">Papua New Guinea</td>\n",
       "      <td style = \"text-align: center;\">Melanesia</td>\n",
       "      <td style = \"text-align: center;\">Multi(4×PolyArea)</td>\n",
       "    </tr>\n",
       "    <tr>\n",
       "      <td style = \"text-align: center;\">Indonesia</td>\n",
       "      <td style = \"text-align: center;\">South-Eastern Asia</td>\n",
       "      <td style = \"text-align: center;\">Multi(13×PolyArea)</td>\n",
       "    </tr>\n",
       "    <tr>\n",
       "      <td style = \"text-align: center;\">Argentina</td>\n",
       "      <td style = \"text-align: center;\">South America</td>\n",
       "      <td style = \"text-align: center;\">Multi(2×PolyArea)</td>\n",
       "    </tr>\n",
       "    <tr>\n",
       "      <td style = \"text-align: right;\">&vellip;</td>\n",
       "      <td style = \"text-align: right;\">&vellip;</td>\n",
       "      <td style = \"text-align: right;\">&vellip;</td>\n",
       "    </tr>\n",
       "  </tbody>\n",
       "</table>\n"
      ],
      "text/plain": [
       "\u001b[1m177×3 GeoTable over 177 GeometrySet\u001b[0m\n",
       "┌──────────────────────────┬────────────────────┬───────────────────────────────\n",
       "│\u001b[35;1m         COUNTRY          \u001b[0m│\u001b[35;1m       REGION       \u001b[0m│\u001b[38;2;0;128;128;1m           geometry          \u001b[0m ⋯\n",
       "│\u001b[90m       Categorical        \u001b[0m│\u001b[90m    Categorical     \u001b[0m│\u001b[90m         MultiPolygon        \u001b[0m ⋯\n",
       "│\u001b[90m        [NoUnits]         \u001b[0m│\u001b[90m     [NoUnits]      \u001b[0m│\u001b[90m 🖈 GeodeticLatLon{WGS84Latest\u001b[0m ⋯\n",
       "├──────────────────────────┼────────────────────┼───────────────────────────────\n",
       "│           Fiji           │     Melanesia      │       Multi(3×PolyArea)      ⋯\n",
       "│         Tanzania         │   Eastern Africa   │       Multi(1×PolyArea)      ⋯\n",
       "│        W. Sahara         │  Northern Africa   │       Multi(1×PolyArea)      ⋯\n",
       "│          Canada          │  Northern America  │      Multi(30×PolyArea)      ⋯\n",
       "│ United States of America │  Northern America  │      Multi(10×PolyArea)      ⋯\n",
       "│        Kazakhstan        │    Central Asia    │       Multi(1×PolyArea)      ⋯\n",
       "│        Uzbekistan        │    Central Asia    │       Multi(1×PolyArea)      ⋯\n",
       "│     Papua New Guinea     │     Melanesia      │       Multi(4×PolyArea)      ⋯\n",
       "│        Indonesia         │ South-Eastern Asia │      Multi(13×PolyArea)      ⋯\n",
       "│        Argentina         │   South America    │       Multi(2×PolyArea)      ⋯\n",
       "│          Chile           │   South America    │       Multi(2×PolyArea)      ⋯\n",
       "│     Dem. Rep. Congo      │   Middle Africa    │       Multi(1×PolyArea)      ⋯\n",
       "│         Somalia          │   Eastern Africa   │       Multi(1×PolyArea)      ⋯\n",
       "│          Kenya           │   Eastern Africa   │       Multi(1×PolyArea)      ⋯\n",
       "│            ⋮             │         ⋮          │               ⋮              ⋱\n",
       "└──────────────────────────┴────────────────────┴───────────────────────────────\n",
       "\u001b[36m                                                   1 column and 163 rows omitted\u001b[0m"
      ]
     },
     "metadata": {},
     "output_type": "display_data"
    }
   ],
   "source": [
    "GeoIO.load(\"data/countries.geojson\")"
   ]
  },
  {
   "cell_type": "code",
   "execution_count": 28,
   "metadata": {},
   "outputs": [
    {
     "data": {
      "text/html": [
       "<div><div style = \"float: left;\"><span>4×4 DataFrame</span></div><div style = \"clear: both;\"></div></div><div class = \"data-frame\" style = \"overflow-x: scroll;\"><table class = \"data-frame\" style = \"margin-bottom: 6px;\"><thead><tr class = \"header\"><th class = \"rowNumber\" style = \"font-weight: bold; text-align: right;\">Row</th><th style = \"text-align: left;\">NAME</th><th style = \"text-align: left;\">AGE</th><th style = \"text-align: left;\">HEIGHT</th><th style = \"text-align: left;\">GENDER</th></tr><tr class = \"subheader headerLastRow\"><th class = \"rowNumber\" style = \"font-weight: bold; text-align: right;\"></th><th title = \"String\" style = \"text-align: left;\">String</th><th title = \"Quantity{Float64, 𝐓, Unitful.FreeUnits{(yr,), 𝐓, nothing}}\" style = \"text-align: left;\">Quantity…</th><th title = \"Quantity{Float64, 𝐋, Unitful.FreeUnits{(m,), 𝐋, nothing}}\" style = \"text-align: left;\">Quantity…</th><th title = \"String\" style = \"text-align: left;\">String</th></tr></thead><tbody><tr><td class = \"rowNumber\" style = \"font-weight: bold; text-align: right;\">1</td><td style = \"text-align: left;\">John</td><td style = \"text-align: right;\">34.0 yr</td><td style = \"text-align: right;\">1.78 m</td><td style = \"text-align: left;\">male</td></tr><tr><td class = \"rowNumber\" style = \"font-weight: bold; text-align: right;\">2</td><td style = \"text-align: left;\">Mary</td><td style = \"text-align: right;\">12.0 yr</td><td style = \"text-align: right;\">1.56 m</td><td style = \"text-align: left;\">female</td></tr><tr><td class = \"rowNumber\" style = \"font-weight: bold; text-align: right;\">3</td><td style = \"text-align: left;\">Paul</td><td style = \"text-align: right;\">23.0 yr</td><td style = \"text-align: right;\">1.7 m</td><td style = \"text-align: left;\">male</td></tr><tr><td class = \"rowNumber\" style = \"font-weight: bold; text-align: right;\">4</td><td style = \"text-align: left;\">Anne</td><td style = \"text-align: right;\">39.0 yr</td><td style = \"text-align: right;\">1.8 m</td><td style = \"text-align: left;\">female</td></tr></tbody></table></div>"
      ],
      "text/latex": [
       "\\begin{tabular}{r|cccc}\n",
       "\t& NAME & AGE & HEIGHT & GENDER\\\\\n",
       "\t\\hline\n",
       "\t& String & Quantity… & Quantity… & String\\\\\n",
       "\t\\hline\n",
       "\t1 & John & 34.0 yr & 1.78 m & male \\\\\n",
       "\t2 & Mary & 12.0 yr & 1.56 m & female \\\\\n",
       "\t3 & Paul & 23.0 yr & 1.7 m & male \\\\\n",
       "\t4 & Anne & 39.0 yr & 1.8 m & female \\\\\n",
       "\\end{tabular}\n"
      ],
      "text/plain": [
       "\u001b[1m4×4 DataFrame\u001b[0m\n",
       "\u001b[1m Row \u001b[0m│\u001b[1m NAME   \u001b[0m\u001b[1m AGE       \u001b[0m\u001b[1m HEIGHT    \u001b[0m\u001b[1m GENDER \u001b[0m\n",
       "     │\u001b[90m String \u001b[0m\u001b[90m Quantity… \u001b[0m\u001b[90m Quantity… \u001b[0m\u001b[90m String \u001b[0m\n",
       "─────┼──────────────────────────────────────\n",
       "   1 │ John      34.0 yr     1.78 m  male\n",
       "   2 │ Mary      12.0 yr     1.56 m  female\n",
       "   3 │ Paul      23.0 yr      1.7 m  male\n",
       "   4 │ Anne      39.0 yr      1.8 m  female"
      ]
     },
     "metadata": {},
     "output_type": "display_data"
    }
   ],
   "source": [
    "values(geotable)"
   ]
  },
  {
   "cell_type": "code",
   "execution_count": 29,
   "metadata": {},
   "outputs": [
    {
     "data": {
      "text/plain": [
       "2×2 CartesianGrid\n",
       "├─ minimum: Point(x: 0.0 m, y: 0.0 m)\n",
       "├─ maximum: Point(x: 2.0 m, y: 2.0 m)\n",
       "└─ spacing: (1.0 m, 1.0 m)"
      ]
     },
     "metadata": {},
     "output_type": "display_data"
    }
   ],
   "source": [
    "domain(geotable)"
   ]
  },
  {
   "cell_type": "code",
   "execution_count": null,
   "metadata": {},
   "outputs": [],
   "source": []
  }
 ],
 "metadata": {
  "kernelspec": {
   "display_name": "Julia 1.11.5",
   "language": "julia",
   "name": "julia-1.11"
  },
  "language_info": {
   "file_extension": ".jl",
   "mimetype": "application/julia",
   "name": "julia",
   "version": "1.11.5"
  }
 },
 "nbformat": 4,
 "nbformat_minor": 2
}
